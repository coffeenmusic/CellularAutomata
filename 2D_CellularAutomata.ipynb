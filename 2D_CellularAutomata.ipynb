{
 "cells": [
  {
   "cell_type": "code",
   "execution_count": 43,
   "metadata": {},
   "outputs": [],
   "source": [
    "import sys, pygame\n",
    "from pygame import Color, surfarray\n",
    "import numpy as np\n",
    "import random\n",
    "import cv2\n",
    "import os"
   ]
  },
  {
   "cell_type": "code",
   "execution_count": 144,
   "metadata": {},
   "outputs": [],
   "source": [
    "display_width = 900\n",
    "display_height = 900\n",
    "\n",
    "cell_size = 20 # Number of pixels per cell\n",
    "\n",
    "cell_width = display_width//cell_size\n",
    "cell_height = display_height//cell_size\n",
    "\n",
    "display_width = cell_width*cell_size\n",
    "display_height = cell_height*cell_size\n",
    "\n",
    "INIT_MODE = 'subrandom' # 'subrandom'=random sized box smaller than cell width, 'random'=random 0 or 1 for each cell in row\n",
    "EVOLVE_COLOR = False # Randomly delta color on each new row\n",
    "SAVE_TO_DISK = False # Save each iteration as image in Screenshots/\n",
    "EMPTY_RESET = False # Reset if new rows are almost entirely empty\n",
    "ITERATION_CNT = 500 # Number of cellular evolutions \n",
    "\n",
    "rules_live = [0, 0, 1, 1, 0, 0, 0, 0, 0] # Index is neighbor living state count\n",
    "rules_dead = [0, 0, 0, 1, 0, 0, 0, 0, 0] # Index is neighbor living state count"
   ]
  },
  {
   "cell_type": "code",
   "execution_count": 149,
   "metadata": {},
   "outputs": [],
   "source": [
    "def init_states(itype='random'):\n",
    "    if itype == 'random':\n",
    "        states = np.random.randint(2, size=(cell_width, cell_height))\n",
    "    elif itype == 'subrandom':\n",
    "        randstart = random.randrange(0, cell_width//2)\n",
    "        randstop = random.randrange(randstart, cell_width)\n",
    "        states = np.zeros((cell_width, cell_height))\n",
    "        states[randstart:randstop, randstart:randstop] = np.random.randint(2, size=(randstop-randstart, randstop-randstart))\n",
    "    else:\n",
    "        states = np.ones((cell_width, cell_height))\n",
    "        states[0:cell_width//2, 0:cell_width//2] = np.ones((cell_width//2, cell_width//2))\n",
    "    return states"
   ]
  },
  {
   "cell_type": "code",
   "execution_count": 216,
   "metadata": {},
   "outputs": [],
   "source": [
    "\"\"\"\n",
    "    Returns single cell result using defined rules and input region of interest\n",
    "    - roi: region of interest. centered on x, y with padding region on cells > 0\n",
    "    \n",
    "    Note: currently only capable of 1 cell padding\n",
    "\"\"\"\n",
    "def next_gen(roi):\n",
    "    live = roi[roi.shape[0]//2, roi.shape[1]//2] # Cell State\n",
    "    live_cnt = int(np.sum(roi) - live) # don't count center cell\n",
    "    \n",
    "    assert len(rules_live) == roi.shape[0]*roi.shape[1], \"Region of interest size does not match rules_live length\"\n",
    "    assert len(rules_dead) == roi.shape[0]*roi.shape[1], \"Region of interest size does not match rules_dead length\"\n",
    "           \n",
    "    try:    \n",
    "        if live:\n",
    "            return rules_live[live_cnt]\n",
    "        else:\n",
    "            return rules_dead[live_cnt]\n",
    "    except:\n",
    "        print(live_cnt, live)\n",
    "        sys.exit()\n",
    "\n",
    "\n",
    "def new_state(states, colors, pad=1):\n",
    "    for y in range(pad, states.shape[0] - pad):\n",
    "        for x in range(pad, states.shape[1] - pad):\n",
    "            ng = next_gen(states[y-pad:y+pad+1, x-pad:x+pad+1]) # Next Generation Cell Value (int)\n",
    "            \n",
    "            states[y, x] = ng\n",
    "            \n",
    "            # Update Color\n",
    "            dead_color=(255, 255, 255)\n",
    "            color = get_avg_color(colors[y-pad:y+pad+1, x-pad:x+pad+1])\n",
    "            colors[y, x] = update_color(ng, color, mode='random', dead_color=dead_color, max_delta=50)\n",
    "    \n",
    "    return states # return state array "
   ]
  },
  {
   "cell_type": "code",
   "execution_count": 218,
   "metadata": {},
   "outputs": [],
   "source": [
    "def get_avg_color(colors):\n",
    "    colors = np.array(np.nanmean(np.where(colors != 255, colors, np.nan), axis=(0, 1)), dtype=int)\n",
    "    return colors\n",
    "    #return np.mean(colors, axis=(0, 1), dtype=int)"
   ]
  },
  {
   "cell_type": "code",
   "execution_count": 219,
   "metadata": {},
   "outputs": [
    {
     "data": {
      "text/plain": [
       "array([40, 47, 23])"
      ]
     },
     "execution_count": 219,
     "metadata": {},
     "output_type": "execute_result"
    }
   ],
   "source": [
    "get_avg_color(px[10:15, 10:15])"
   ]
  },
  {
   "cell_type": "code",
   "execution_count": 220,
   "metadata": {},
   "outputs": [],
   "source": [
    "\"\"\"\n",
    "    Pass in an RGB tuple. If mode=random, randomly increment or decrement the color value (R, G, or B randomly chosen).\n",
    "    - live [int]: cell alive or dead\n",
    "    - color: RGB tuple\n",
    "    - max_delta: max amount to randomly increment or decrement the color scaler value\n",
    "    - mode: random or always 255\n",
    "\"\"\"\n",
    "def update_color(live, color, max_delta=40, mode='random', dead_color=(255, 255, 255)):\n",
    "    if not(live):\n",
    "        return dead_color # Dead color\n",
    "    \n",
    "    color = list(color)\n",
    "    if mode == 'random':\n",
    "        rgb = random.randrange(3) # Random Channel\n",
    "        delta = random.randrange(-max_delta, max_delta) # Random change in color\n",
    "\n",
    "        new_color = color[rgb] + delta\n",
    "        \n",
    "        if new_color < 0:\n",
    "            new_color = 0\n",
    "        elif new_color > 255:\n",
    "            new_color = 255\n",
    "            \n",
    "        color[rgb] = new_color\n",
    "    else:\n",
    "        color = (0, 0, 0)\n",
    "        \n",
    "    return tuple(color)"
   ]
  },
  {
   "cell_type": "code",
   "execution_count": 258,
   "metadata": {},
   "outputs": [],
   "source": [
    "def init_colors(colors, live_color=(0,0,0)):\n",
    "    for y in range(colors.shape[0]):\n",
    "        for x in range(colors.shape[1]):\n",
    "            color = colors[y, x]\n",
    "            \n",
    "            if all([a == b for a, b in zip(color, live_color)]):\n",
    "                colors[y, x] = (random.randrange(0, 255), random.randrange(0, 255), random.randrange(0, 255))\n",
    "                \n",
    "    return colors"
   ]
  },
  {
   "cell_type": "code",
   "execution_count": 259,
   "metadata": {},
   "outputs": [],
   "source": [
    "def save_frame(img, cnt):\n",
    "    fname = format(f'{cnt:08d}.jpg')\n",
    "    img = np.array(img)\n",
    "    img = np.rot90(img, 3)\n",
    "    img = np.flip(img, axis=1)\n",
    "    img = cv2.imwrite(os.path.join('Screenshots', fname), img)\n",
    "    \n",
    "def save_screenshots_to_video(filename='1D_Cellular_Automata.avi', framerate=60, startframe=30, stopframe=300):\n",
    "    video = []\n",
    "    for i, file in enumerate(os.listdir('Screenshots')):\n",
    "        if i < startframe:\n",
    "            continue\n",
    "        elif i > stopframe:\n",
    "            break\n",
    "        \n",
    "        if file.endswith('.jpg'):\n",
    "            img = cv2.imread(os.path.join('Screenshots', file))\n",
    "            height, width, layers = img.shape\n",
    "            size = (width, height)\n",
    "            video += [img]\n",
    "\n",
    "    out = cv2.VideoWriter(filename, cv2.VideoWriter_fourcc(*'DIVX'), framerate, size)\n",
    "    for frame in video:\n",
    "        out.write(frame)\n",
    "    out.release()"
   ]
  },
  {
   "cell_type": "code",
   "execution_count": 260,
   "metadata": {
    "scrolled": true
   },
   "outputs": [
    {
     "name": "stderr",
     "output_type": "stream",
     "text": [
      "C:\\ProgramData\\Anaconda3\\lib\\site-packages\\ipykernel_launcher.py:2: RuntimeWarning: Mean of empty slice\n",
      "  \n",
      "C:\\ProgramData\\Anaconda3\\lib\\site-packages\\ipykernel_launcher.py:17: RuntimeWarning: overflow encountered in long_scalars\n"
     ]
    },
    {
     "name": "stdout",
     "output_type": "stream",
     "text": [
      "[0 0 0]\n",
      "[0 0 0]\n",
      "[0 0 0]\n",
      "[0 0 0]\n",
      "[0 0 0]\n",
      "[0 0 0]\n",
      "[0 0 0]\n",
      "[0 0 0]\n",
      "[0 0 0]\n",
      "[0 0 0]\n",
      "[0 0 0]\n",
      "[0 0 0]\n",
      "[0 0 0]\n",
      "[0 0 0]\n",
      "[0 0 0]\n",
      "[0 0 0]\n",
      "[0 0 0]\n",
      "[0 0 0]\n",
      "[0 0 0]\n",
      "[0 0 0]\n",
      "[0 0 0]\n",
      "[0 0 0]\n",
      "[0 0 0]\n",
      "[0 0 0]\n",
      "[0 0 0]\n",
      "[0 0 0]\n",
      "[0 0 0]\n",
      "[0 0 0]\n",
      "[0 0 0]\n",
      "[0 0 0]\n",
      "[0 0 0]\n",
      "[0 0 0]\n",
      "[0 0 0]\n",
      "[0 0 0]\n",
      "[0 0 0]\n",
      "[0 0 0]\n",
      "[0 0 0]\n",
      "[0 0 0]\n",
      "[0 0 0]\n",
      "[0 0 0]\n",
      "[0 0 0]\n",
      "[0 0 0]\n",
      "[0 0 0]\n",
      "[0 0 0]\n",
      "[0 0 0]\n",
      "[0 0 0]\n",
      "[0 0 0]\n",
      "[0 0 0]\n",
      "[0 0 0]\n",
      "[0 0 0]\n",
      "[0 0 0]\n",
      "[0 0 0]\n",
      "[0 0 0]\n",
      "[0 0 0]\n",
      "[0 0 0]\n",
      "[0 0 0]\n",
      "[0 0 0]\n",
      "[0 0 0]\n",
      "[0 0 0]\n",
      "[0 0 0]\n",
      "[0 0 0]\n",
      "[0 0 0]\n",
      "[0 0 0]\n",
      "[0 0 0]\n",
      "[0 0 0]\n",
      "[0 0 0]\n",
      "[0 0 0]\n",
      "[0 0 0]\n",
      "[0 0 0]\n",
      "[0 0 0]\n",
      "[0 0 0]\n",
      "[0 0 0]\n",
      "[0 0 0]\n",
      "[0 0 0]\n",
      "[0 0 0]\n",
      "[0 0 0]\n",
      "[0 0 0]\n",
      "[0 0 0]\n",
      "[0 0 0]\n",
      "[0 0 0]\n",
      "[0 0 0]\n",
      "[0 0 0]\n",
      "[0 0 0]\n",
      "[0 0 0]\n",
      "[0 0 0]\n",
      "[0 0 0]\n",
      "[0 0 0]\n",
      "[0 0 0]\n"
     ]
    }
   ],
   "source": [
    "states = init_states(itype=INIT_MODE) # Initialize States\n",
    "\n",
    "pygame.init()\n",
    "\n",
    "screen = pygame.display.set_mode((display_width, display_height))\n",
    "pygame.display.set_caption('2D Cellular Automata')\n",
    "\n",
    "#create a surface with the size as the array\n",
    "surface = pygame.Surface((cell_width, cell_height))\n",
    "surface = pygame.transform.scale(surface, (display_width, display_height)) # Scale Size Up\n",
    "\n",
    "# Initialize screen to white\n",
    "px = pygame.surfarray.pixels3d(surface)\n",
    "px[:,:,:] = np.ones((display_width, display_height, 3))*255 \n",
    "\n",
    "\n",
    "run = True\n",
    "cnt = 0\n",
    "while run:\n",
    "    for event in pygame.event.get():\n",
    "        if event.type == pygame.QUIT: \n",
    "            run = False\n",
    "\n",
    "    pygame.time.delay(30)\n",
    "    \n",
    "    # Reset bottom row if limited complexity\n",
    "    if sum(states[0])/len(states[0]) < 0.05 and EMPTY_RESET:\n",
    "        states[0] = init_states(return_btm=True)\n",
    "    \n",
    "    # Scale Screen Size Down to edit pixel array at cell size=1 --------------------------------------------------\n",
    "    surface = pygame.transform.scale(surface, (cell_width, cell_height))\n",
    "    px = pygame.surfarray.pixels3d(surface)\n",
    "    \n",
    "    # Iterate State\n",
    "    states = new_state(states, px)\n",
    "    \n",
    "    if cnt == 0:\n",
    "        init_colors(px)\n",
    "    \n",
    "    # Scale Screen Size Up to display pixel array at cell size=multiplier ----------------------------------------\n",
    "    surface = pygame.transform.scale(surface, (display_width, display_height))  # Scale Size Up     \n",
    "    screen.blit(surface, (0, 0)) # Update all pixels on screen object\n",
    "    \n",
    "    if SAVE_TO_DISK:\n",
    "        save_frame(surfarray.array3d(surface), cnt)\n",
    "    \n",
    "    pygame.display.update()\n",
    "        \n",
    "    if cnt > ITERATION_CNT:\n",
    "        break\n",
    "    cnt += 1\n",
    "    \n",
    "pygame.quit()"
   ]
  },
  {
   "cell_type": "code",
   "execution_count": 154,
   "metadata": {},
   "outputs": [],
   "source": [
    "save_screenshots_to_video(filename='gif.avi', framerate=30, startframe=90, stopframe=300) # Run if screenshots already saved to disk"
   ]
  },
  {
   "cell_type": "code",
   "execution_count": 162,
   "metadata": {},
   "outputs": [
    {
     "data": {
      "text/plain": [
       "False"
      ]
     },
     "execution_count": 162,
     "metadata": {},
     "output_type": "execute_result"
    }
   ],
   "source": [
    "(0, 255, 0) == (0,233,0)"
   ]
  },
  {
   "cell_type": "code",
   "execution_count": 163,
   "metadata": {},
   "outputs": [
    {
     "ename": "NameError",
     "evalue": "name 'color' is not defined",
     "output_type": "error",
     "traceback": [
      "\u001b[1;31m---------------------------------------------------------------------------\u001b[0m",
      "\u001b[1;31mNameError\u001b[0m                                 Traceback (most recent call last)",
      "\u001b[1;32m<ipython-input-163-32bd99f60afb>\u001b[0m in \u001b[0;36m<module>\u001b[1;34m()\u001b[0m\n\u001b[1;32m----> 1\u001b[1;33m \u001b[0mprint\u001b[0m\u001b[1;33m(\u001b[0m\u001b[0mcolor\u001b[0m\u001b[1;33m)\u001b[0m\u001b[1;33m\u001b[0m\u001b[0m\n\u001b[0m",
      "\u001b[1;31mNameError\u001b[0m: name 'color' is not defined"
     ]
    }
   ],
   "source": [
    "print(color)"
   ]
  },
  {
   "cell_type": "code",
   "execution_count": 175,
   "metadata": {},
   "outputs": [
    {
     "name": "stderr",
     "output_type": "stream",
     "text": [
      "UsageError: %colors: you must specify a color scheme. See '%colors?'\n"
     ]
    }
   ],
   "source": [
    "colors"
   ]
  },
  {
   "cell_type": "code",
   "execution_count": 178,
   "metadata": {},
   "outputs": [],
   "source": [
    "test = px[10:15, 10:15]"
   ]
  },
  {
   "cell_type": "code",
   "execution_count": null,
   "metadata": {},
   "outputs": [],
   "source": []
  }
 ],
 "metadata": {
  "kernelspec": {
   "display_name": "Python 3",
   "language": "python",
   "name": "python3"
  },
  "language_info": {
   "codemirror_mode": {
    "name": "ipython",
    "version": 3
   },
   "file_extension": ".py",
   "mimetype": "text/x-python",
   "name": "python",
   "nbconvert_exporter": "python",
   "pygments_lexer": "ipython3",
   "version": "3.6.5"
  }
 },
 "nbformat": 4,
 "nbformat_minor": 2
}
