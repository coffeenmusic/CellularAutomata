{
 "cells": [
  {
   "cell_type": "code",
   "execution_count": 1,
   "metadata": {},
   "outputs": [
    {
     "name": "stdout",
     "output_type": "stream",
     "text": [
      "pygame 1.9.6\n",
      "Hello from the pygame community. https://www.pygame.org/contribute.html\n"
     ]
    }
   ],
   "source": [
    "import sys, pygame\n",
    "from pygame import Color, surfarray\n",
    "import numpy as np\n",
    "import random"
   ]
  },
  {
   "cell_type": "code",
   "execution_count": 89,
   "metadata": {},
   "outputs": [],
   "source": [
    "cell_width = 90\n",
    "cell_height = 90\n",
    "\n",
    "cell_size = 10 # Number of pixels per cell\n",
    "\n",
    "display_width = cell_width*cell_size\n",
    "display_height = cell_height*cell_size\n",
    "\n",
    "color_dict = {\n",
    "        0: (255, 255, 255),\n",
    "        1: (0, 0, 0)\n",
    "        }\n",
    "\n",
    "n_bits = 3\n",
    "\n",
    "EVOLVE_COLOR = True"
   ]
  },
  {
   "cell_type": "code",
   "execution_count": 20,
   "metadata": {},
   "outputs": [],
   "source": [
    "def init_states(itype='random', return_btm=False):\n",
    "    states = [[0]*cell_width for i in range(cell_height)] # Zero State\n",
    "    if itype == 'random':\n",
    "        states[0] = [random.randrange(2) for i in range(cell_width)] # Random State\n",
    "    if return_btm:\n",
    "        return states[0]\n",
    "    return states"
   ]
  },
  {
   "cell_type": "code",
   "execution_count": 21,
   "metadata": {},
   "outputs": [],
   "source": [
    "def next_gen(left, middle, right, nth_rule):\n",
    "    left, middle, right = int(bool(left)), int(bool(middle)), int(bool(right))\n",
    "    value = int(str(left) + str(middle) + str(right), 2)\n",
    "    return get_rule(nth_rule)[value]\n",
    "\n",
    "def new_state(states, nth_rule=30):\n",
    "    new = states[0].copy() # Get bottom row\n",
    "    \n",
    "    if nth_rule == 'random':\n",
    "        nth_rule = random.randrange(2**(2**n_bits))\n",
    "    \n",
    "    new[1:-1] = [next_gen(new[i-1], new[i], new[i+1], nth_rule) for i in range(1, len(new)-1)] # New row, keep edge values\n",
    "    states.insert(0, new) # Add new row to state array\n",
    "    states.pop() # Shift states up 1 row\n",
    "    \n",
    "    return states # return state array\n",
    "\n",
    "\"\"\"\n",
    "    Returns PixelArray from state list\n",
    "\"\"\"\n",
    "def states_to_pix(states):\n",
    "    return [[color_dict[c] for c in s] for s in states]"
   ]
  },
  {
   "cell_type": "code",
   "execution_count": 22,
   "metadata": {},
   "outputs": [],
   "source": [
    "def get_rules(n_bits=3, nth_rule=None):\n",
    "    n_states = 2**n_bits\n",
    "    rules = np.zeros((2**n_states, n_states))\n",
    "    for i in range(2**n_states):\n",
    "        rule = format(i, '0'+str(n_states)+'b')\n",
    "        rules[i,:] = np.array([int(b) for b in rule])\n",
    "        \n",
    "    if nth_rule != None:\n",
    "        return rules[nth_rule, :]\n",
    "    \n",
    "    return rules\n",
    "\n",
    "def get_rule(nth_rule, n_bits=3):\n",
    "    n_states = 2**n_bits\n",
    "    rule = format(nth_rule, '0'+str(n_states)+'b')\n",
    "    return np.array([int(b) for b in rule])"
   ]
  },
  {
   "cell_type": "code",
   "execution_count": 83,
   "metadata": {},
   "outputs": [],
   "source": [
    "def update_color_dict(color='random', max_delta=10):\n",
    "    if color == 'random':\n",
    "        rgb = random.randrange(3) # Random Channel\n",
    "        delta = random.randrange(-max_delta, max_delta) # Random change in color\n",
    "        \n",
    "        channels = list(color_dict[1])\n",
    "        channel = channels[rgb]     \n",
    "        channel += delta\n",
    "        channel = channel if channel >= 0 else 0\n",
    "        channel = channel if channel <= 255 else 255\n",
    "        channels[rgb] = channel\n",
    "        color_dict[1] = tuple(channels)"
   ]
  },
  {
   "cell_type": "code",
   "execution_count": 92,
   "metadata": {},
   "outputs": [
    {
     "name": "stdout",
     "output_type": "stream",
     "text": [
      "Rule: 1\n",
      "Rule: 2\n",
      "Rule: 3\n",
      "Rule: 4\n"
     ]
    }
   ],
   "source": [
    "states = init_states()\n",
    "\n",
    "pygame.init()\n",
    "\n",
    "screen = pygame.display.set_mode((display_width, display_height))\n",
    "pygame.display.set_caption('1D Cellular Automata')\n",
    "\n",
    "#create a surface with the size as the array\n",
    "surface = pygame.Surface((cell_width, cell_height))\n",
    "surface = pygame.transform.scale(surface, (display_width, display_height)) # Scale Size Up\n",
    "\n",
    "\n",
    "run = True\n",
    "cnt = 0\n",
    "nth_rule = 0\n",
    "while run:\n",
    "    for event in pygame.event.get():\n",
    "        if event.type == pygame.QUIT: \n",
    "            run = False\n",
    "            #sys.exit()\n",
    "\n",
    "    pygame.time.delay(5)\n",
    "    \n",
    "    # Reset bottom row if limited complexity\n",
    "    if sum(states[0])/len(states[0]) < 0.05:\n",
    "        states[0] = init_states(return_btm=True)\n",
    "    \n",
    "    if cnt % cell_height == cell_height-1:\n",
    "        nth_rule += 1\n",
    "        print('Rule:', nth_rule)\n",
    "    \n",
    "    # Scale Screen Size Down to edit pixel array at cell size=1 --------------------------------------------------\n",
    "    surface = pygame.transform.scale(surface, (cell_width, cell_height))\n",
    "    px = pygame.PixelArray(surface)\n",
    "    \n",
    "    # Translate States to Surface as RGB Colors\n",
    "    states = new_state(states, nth_rule=nth_rule)\n",
    "    new_px = states_to_pix(states)\n",
    "    for i, r in enumerate(new_px):\n",
    "        px[:,i] = new_px[len(new_px) - 1 - i]\n",
    "\n",
    "    px.close()\n",
    "    \n",
    "    # Scale Screen Size Up to display pixel array at cell size=multiplier ----------------------------------------\n",
    "    surface = pygame.transform.scale(surface, (display_width, display_height))  # Scale Size Up     \n",
    "    screen.blit(surface, (0, 0)) # Update all pixels on screen object\n",
    "    \n",
    "    pygame.display.update()\n",
    "    \n",
    "    if EVOLVE_COLOR:\n",
    "        update_color_dict()\n",
    "    cnt += 1\n",
    "    \n",
    "pygame.quit()"
   ]
  },
  {
   "cell_type": "code",
   "execution_count": null,
   "metadata": {},
   "outputs": [],
   "source": []
  }
 ],
 "metadata": {
  "kernelspec": {
   "display_name": "Python 3",
   "language": "python",
   "name": "python3"
  },
  "language_info": {
   "codemirror_mode": {
    "name": "ipython",
    "version": 3
   },
   "file_extension": ".py",
   "mimetype": "text/x-python",
   "name": "python",
   "nbconvert_exporter": "python",
   "pygments_lexer": "ipython3",
   "version": "3.6.5"
  }
 },
 "nbformat": 4,
 "nbformat_minor": 2
}
