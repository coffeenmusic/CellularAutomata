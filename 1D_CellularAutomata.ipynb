{
 "cells": [
  {
   "cell_type": "code",
   "execution_count": 1,
   "metadata": {},
   "outputs": [
    {
     "name": "stdout",
     "output_type": "stream",
     "text": [
      "pygame 1.9.6\n",
      "Hello from the pygame community. https://www.pygame.org/contribute.html\n"
     ]
    }
   ],
   "source": [
    "import sys, pygame\n",
    "from pygame import Color, surfarray\n",
    "import numpy as np\n",
    "import random"
   ]
  },
  {
   "cell_type": "code",
   "execution_count": 2,
   "metadata": {},
   "outputs": [],
   "source": [
    "cell_width = 200\n",
    "cell_height = 200\n",
    "\n",
    "display_width = cell_width\n",
    "display_height = cell_height\n",
    "\n",
    "color_dict = {\n",
    "        0: (255, 255, 255),\n",
    "        1: (0, 0, 0)\n",
    "        }\n",
    "\n",
    "n_bits = 3"
   ]
  },
  {
   "cell_type": "code",
   "execution_count": 3,
   "metadata": {},
   "outputs": [],
   "source": [
    "def init_states(itype='random', return_btm=False):\n",
    "    states = [[0]*cell_width for i in range(cell_height)] # Zero State\n",
    "    if itype == 'random':\n",
    "        states[0] = [random.randrange(2) for i in range(cell_width)] # Random State\n",
    "    if return_btm:\n",
    "        return states[0]\n",
    "    return states"
   ]
  },
  {
   "cell_type": "code",
   "execution_count": 4,
   "metadata": {},
   "outputs": [],
   "source": [
    "def next_gen(left, middle, right, nth_rule):\n",
    "    left, middle, right = int(bool(left)), int(bool(middle)), int(bool(right))\n",
    "    value = int(str(left) + str(middle) + str(right), 2)\n",
    "    return get_rule(nth_rule)[value]\n",
    "\n",
    "def new_state(states, nth_rule=30):\n",
    "    new = states[0].copy() # Get bottom row\n",
    "    \n",
    "    if nth_rule == 'random':\n",
    "        nth_rule = random.randrange(2**(2**n_bits))\n",
    "    \n",
    "    new[1:-1] = [next_gen(new[i-1], new[i], new[i+1], nth_rule) for i in range(1, len(new)-1)] # New row, keep edge values\n",
    "    states.insert(0, new) # Add new row to state array\n",
    "    states.pop() # Shift states up 1 row\n",
    "    \n",
    "    return states # return state array\n",
    "\n",
    "\"\"\"\n",
    "    Returns PixelArray from state list\n",
    "\"\"\"\n",
    "def states_to_pix(states):\n",
    "    return [[color_dict[c] for c in s] for s in states]"
   ]
  },
  {
   "cell_type": "code",
   "execution_count": 5,
   "metadata": {},
   "outputs": [],
   "source": [
    "def get_rules(n_bits=3, nth_rule=None):\n",
    "    n_states = 2**n_bits\n",
    "    rules = np.zeros((2**n_states, n_states))\n",
    "    for i in range(2**n_states):\n",
    "        rule = format(i, '0'+str(n_states)+'b')\n",
    "        rules[i,:] = np.array([int(b) for b in rule])\n",
    "        \n",
    "    if nth_rule != None:\n",
    "        return rules[nth_rule, :]\n",
    "    \n",
    "    return rules\n",
    "\n",
    "def get_rule(nth_rule, n_bits=3):\n",
    "    n_states = 2**n_bits\n",
    "    rule = format(nth_rule, '0'+str(n_states)+'b')\n",
    "    return np.array([int(b) for b in rule])"
   ]
  },
  {
   "cell_type": "code",
   "execution_count": 8,
   "metadata": {},
   "outputs": [
    {
     "name": "stdout",
     "output_type": "stream",
     "text": [
      "Rule: 1\n",
      "Rule: 2\n",
      "Rule: 3\n",
      "Rule: 4\n",
      "Rule: 5\n",
      "Rule: 6\n",
      "Rule: 7\n",
      "Rule: 8\n",
      "Rule: 9\n",
      "Rule: 10\n",
      "Rule: 11\n",
      "Rule: 12\n"
     ]
    }
   ],
   "source": [
    "states = init_states()\n",
    "\n",
    "pygame.init()\n",
    "\n",
    "screen = pygame.display.set_mode((cell_width, cell_height))\n",
    "pygame.display.set_caption('1D Cellular Automata')\n",
    "\n",
    "#create a surface with the size as the array\n",
    "surface = pygame.Surface((display_width, display_height))\n",
    "\n",
    "# transform the surface to screen size\n",
    "#surface = pygame.transform.scale(surface, (WIDTH, HEIGHT))\n",
    "\n",
    "\n",
    "\n",
    "run = True\n",
    "cnt = 0\n",
    "nth_rule = 0\n",
    "while run:\n",
    "    for event in pygame.event.get():\n",
    "        if event.type == pygame.QUIT: \n",
    "            run = False\n",
    "            #sys.exit()\n",
    "\n",
    "    pygame.time.delay(5)\n",
    "    \n",
    "    px = pygame.PixelArray(surface)\n",
    "\n",
    "    if cnt % cell_height == cell_height-1:\n",
    "        nth_rule += 1\n",
    "        print('Rule:', nth_rule)\n",
    "\n",
    "    if sum(states[0])/len(states[0]) < 0.05:\n",
    "        states[0] = init_states(return_btm=True)\n",
    "        \n",
    "    states = new_state(states, nth_rule=nth_rule)\n",
    "    new_px = states_to_pix(states)\n",
    "    for i, r in enumerate(new_px):\n",
    "        px[:,i] = new_px[len(new_px) - 1 - i]\n",
    "\n",
    "    px.close()\n",
    "          \n",
    "    screen.blit(surface, (0, 0)) # Update all pixels on screen object\n",
    "    \n",
    "    pygame.display.update()\n",
    "    cnt += 1\n",
    "    \n",
    "pygame.quit()"
   ]
  },
  {
   "cell_type": "code",
   "execution_count": null,
   "metadata": {},
   "outputs": [],
   "source": []
  },
  {
   "cell_type": "code",
   "execution_count": null,
   "metadata": {},
   "outputs": [],
   "source": []
  }
 ],
 "metadata": {
  "kernelspec": {
   "display_name": "Python 3",
   "language": "python",
   "name": "python3"
  },
  "language_info": {
   "codemirror_mode": {
    "name": "ipython",
    "version": 3
   },
   "file_extension": ".py",
   "mimetype": "text/x-python",
   "name": "python",
   "nbconvert_exporter": "python",
   "pygments_lexer": "ipython3",
   "version": "3.6.5"
  }
 },
 "nbformat": 4,
 "nbformat_minor": 2
}
