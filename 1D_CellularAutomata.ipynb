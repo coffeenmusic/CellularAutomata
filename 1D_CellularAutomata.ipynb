{
 "cells": [
  {
   "cell_type": "code",
   "execution_count": 1,
   "metadata": {},
   "outputs": [
    {
     "name": "stdout",
     "output_type": "stream",
     "text": [
      "pygame 1.9.6\n",
      "Hello from the pygame community. https://www.pygame.org/contribute.html\n"
     ]
    }
   ],
   "source": [
    "import sys, pygame\n",
    "from pygame import Color, surfarray\n",
    "import numpy as np\n",
    "import random\n",
    "import cv2\n",
    "import os"
   ]
  },
  {
   "cell_type": "code",
   "execution_count": 10,
   "metadata": {},
   "outputs": [],
   "source": [
    "display_width = 900\n",
    "display_height = 900\n",
    "\n",
    "cell_size = 20 # Number of pixels per cell\n",
    "\n",
    "cell_width = display_width//cell_size\n",
    "cell_height = display_height//cell_size\n",
    "\n",
    "display_width = cell_width*cell_size\n",
    "display_height = cell_height*cell_size\n",
    "\n",
    "color_dict = {\n",
    "        0: (255, 255, 255),\n",
    "        1: (0, 0, 0)\n",
    "        }\n",
    "\n",
    "n_bits = 3\n",
    "\n",
    "EVOLVE_COLOR = True\n",
    "SAVE_TO_DISK = False\n",
    "#RULE_MODE = 'random' # 'iterate'= iterate through each rule, 'random'=random rule, integer rule # = single rule, list of #s= random numbers from list\n",
    "#RULE_MODE = [30, 54, 60, 62, 90, 94, 102, 110, 122, 126, 150, 158, 182, 188, 190, 220, 222, 250]\n",
    "RULE_MODE = 30\n",
    "\n",
    "INIT_MODE = 'single' # 'single'=centered single cell, 'random'=random 0 or 1 for each cell in row"
   ]
  },
  {
   "cell_type": "code",
   "execution_count": 3,
   "metadata": {},
   "outputs": [],
   "source": [
    "def init_states(itype='random', return_btm=False):\n",
    "    states = [[0]*cell_width for i in range(cell_height)] # Zero State\n",
    "    if itype == 'random':\n",
    "        states[0] = [random.randrange(2) for i in range(cell_width)] # Random State\n",
    "    elif itype == 'single':\n",
    "        states[0] = [0]*cell_width\n",
    "        states[0][cell_width//2] = 1\n",
    "    if return_btm:\n",
    "        return states[0]\n",
    "    return states"
   ]
  },
  {
   "cell_type": "code",
   "execution_count": 4,
   "metadata": {},
   "outputs": [],
   "source": [
    "def next_gen(left, middle, right, nth_rule):\n",
    "    left, middle, right = int(bool(left)), int(bool(middle)), int(bool(right))\n",
    "    value = int(str(left) + str(middle) + str(right), 2)\n",
    "    return get_rule(nth_rule)[value]\n",
    "\n",
    "def new_state(states, nth_rule=30):\n",
    "    new = states[0].copy() # Get bottom row\n",
    "    \n",
    "    if nth_rule == 'random':\n",
    "        nth_rule = random.randrange(2**(2**n_bits))\n",
    "    \n",
    "    new[1:-1] = [next_gen(new[i-1], new[i], new[i+1], nth_rule) for i in range(1, len(new)-1)] # New row, keep edge values\n",
    "    \n",
    "    # Set edge cells\n",
    "    edge = int(np.round(sum(new)/len(new)))\n",
    "    new[0], new[-1] = edge, edge\n",
    "    \n",
    "    # Iterate FIFO\n",
    "    states.insert(0, new) # Add new row to state array\n",
    "    states.pop() # Shift states up 1 row\n",
    "    \n",
    "    return states # return state array\n",
    "\n",
    "\"\"\"\n",
    "    Returns RGB list from state list\n",
    "    - states: states object\n",
    "    - colors: None=All pixels updated, colors=use prev colors object and only update btm row\n",
    "\"\"\"\n",
    "def states_to_pix(states, colors=None):\n",
    "    if colors == None:\n",
    "        return [[color_dict[c] for c in s] for s in states] # All state colors will match current color dict mapping\n",
    "    else:\n",
    "        btm = states[0] # Bottom\n",
    "        \n",
    "        # Add new row to color list with current color & shift FIFO\n",
    "        colors.insert(0, [color_dict[s] for s in btm])\n",
    "        colors.pop()\n",
    "        return colors # Use all colors from colors, but update bottom row with new colors"
   ]
  },
  {
   "cell_type": "code",
   "execution_count": 5,
   "metadata": {},
   "outputs": [],
   "source": [
    "def get_rule(nth_rule, n_bits=3):\n",
    "    n_states = 2**n_bits\n",
    "    rule = format(nth_rule, '0'+str(n_states)+'b')\n",
    "    return np.array([int(b) for b in rule])[::-1]"
   ]
  },
  {
   "cell_type": "code",
   "execution_count": 6,
   "metadata": {},
   "outputs": [],
   "source": [
    "def init_color_dict(color='random'):\n",
    "    if color == 'random':\n",
    "        color_dict[1] = (random.randrange(255), random.randrange(255), random.randrange(255))\n",
    "    else:\n",
    "        color_dict[1] = (0, 0, 0)\n",
    "\n",
    "def update_color_dict(color='random', max_delta=10):\n",
    "    if color == 'random':\n",
    "        rgb = random.randrange(3) # Random Channel\n",
    "        delta = random.randrange(-max_delta, max_delta) # Random change in color\n",
    "        \n",
    "        channels = list(color_dict[1])\n",
    "        channel = channels[rgb]     \n",
    "        channel += delta\n",
    "        channel = channel if channel >= 0 else 0\n",
    "        channel = channel if channel <= 255 else 255\n",
    "        channels[rgb] = channel\n",
    "        color_dict[1] = tuple(channels)"
   ]
  },
  {
   "cell_type": "code",
   "execution_count": 7,
   "metadata": {},
   "outputs": [],
   "source": [
    "def save_frame(img, cnt):\n",
    "    fname = format(f'{cnt:08d}.jpg')\n",
    "    img = np.array(img)\n",
    "    img = np.rot90(img, 3)\n",
    "    img = np.flip(img, axis=1)\n",
    "    img = cv2.imwrite(os.path.join('Screenshots', fname), img)\n",
    "    \n",
    "def save_screenshots_to_video(filename='1D_Cellular_Automata.avi', framerate=60, startframe=30, stopframe=300):\n",
    "    video = []\n",
    "    for i, file in enumerate(os.listdir('Screenshots')):\n",
    "        if i < startframe:\n",
    "            continue\n",
    "        elif i > stopframe:\n",
    "            break\n",
    "        \n",
    "        if file.endswith('.jpg'):\n",
    "            img = cv2.imread(os.path.join('Screenshots', file))\n",
    "            height, width, layers = img.shape\n",
    "            size = (width, height)\n",
    "            video += [img]\n",
    "\n",
    "    out = cv2.VideoWriter(filename, cv2.VideoWriter_fourcc(*'DIVX'), framerate, size)\n",
    "    for frame in video:\n",
    "        out.write(frame)\n",
    "    out.release()"
   ]
  },
  {
   "cell_type": "markdown",
   "metadata": {},
   "source": [
    "### Overview:\n",
    "- High Level Overview (Updating Pygame Surface):\n",
    "  - Create surface from cell world resolution (Different from display resolution).\n",
    "  - Copy surface to PixelArray object\n",
    "  - Update PixelArray object from color list\n",
    "  - color list gets colors from state list states\n",
    "- states list:\n",
    "  - the states list holds discrete boolean values, not RGB colors.\n",
    "  - Bottom state starts at 0 for States obj, Top at -1. States are reversed when read to the screen.\n",
    "- colors list:\n",
    "  - the colors list holds rows of RGB tuples.\n",
    "  - colors are translated from the states list using the color_dict."
   ]
  },
  {
   "cell_type": "code",
   "execution_count": 11,
   "metadata": {
    "scrolled": true
   },
   "outputs": [
    {
     "name": "stdout",
     "output_type": "stream",
     "text": [
      "Rule: 30\n",
      "Rule: 30\n",
      "Rule: 30\n",
      "Rule: 30\n",
      "Rule: 30\n"
     ]
    }
   ],
   "source": [
    "states = init_states(itype=INIT_MODE) # Initialize States\n",
    "\n",
    "init_color_dict() # Start with random color for on state\n",
    "colors = states_to_pix(states) # Initialize colors\n",
    "\n",
    "pygame.init()\n",
    "\n",
    "screen = pygame.display.set_mode((display_width, display_height))\n",
    "pygame.display.set_caption('1D Cellular Automata')\n",
    "\n",
    "#create a surface with the size as the array\n",
    "surface = pygame.Surface((cell_width, cell_height))\n",
    "surface = pygame.transform.scale(surface, (display_width, display_height)) # Scale Size Up\n",
    "\n",
    "\n",
    "run = True\n",
    "cnt = 0\n",
    "nth_rule = 0\n",
    "while run:\n",
    "    for event in pygame.event.get():\n",
    "        if event.type == pygame.QUIT: \n",
    "            run = False\n",
    "\n",
    "    pygame.time.delay(30)\n",
    "    \n",
    "    # Reset bottom row if limited complexity\n",
    "    if sum(states[0])/len(states[0]) < 0.05:\n",
    "        states[0] = init_states(return_btm=True)\n",
    "    \n",
    "    if cnt % cell_height == cell_height-1 or cnt == 0:\n",
    "        if RULE_MODE == 'random':\n",
    "            nth_rule = random.randrange(2**(2**n_bits))\n",
    "        elif RULE_MODE == 'iterate' and cnt > 0:\n",
    "            nth_rule += 1\n",
    "        elif type(RULE_MODE) == int:\n",
    "            nth_rule = RULE_MODE\n",
    "        elif type(RULE_MODE) == list:\n",
    "            nth_rule = RULE_MODE[random.randrange(len(RULE_MODE))]\n",
    "        \n",
    "        # Reset States\n",
    "        if type(RULE_MODE) != int:\n",
    "            states = init_states(itype=INIT_MODE) # Initialize States\n",
    "            \n",
    "        print('Rule:', nth_rule)\n",
    "    \n",
    "    # Scale Screen Size Down to edit pixel array at cell size=1 --------------------------------------------------\n",
    "    surface = pygame.transform.scale(surface, (cell_width, cell_height))\n",
    "    px = pygame.PixelArray(surface)\n",
    "    \n",
    "    # Translate States to Surface as RGB Colors\n",
    "    states = new_state(states, nth_rule=nth_rule)\n",
    "    colors = states_to_pix(states, colors=colors)\n",
    "\n",
    "    for i, r in enumerate(colors):\n",
    "        px[:,i] = colors[len(colors) - 1 - i]\n",
    "\n",
    "    px.close()\n",
    "    \n",
    "    # Scale Screen Size Up to display pixel array at cell size=multiplier ----------------------------------------\n",
    "    surface = pygame.transform.scale(surface, (display_width, display_height))  # Scale Size Up     \n",
    "    screen.blit(surface, (0, 0)) # Update all pixels on screen object\n",
    "    \n",
    "    if SAVE_TO_DISK:\n",
    "        save_frame(surfarray.array3d(surface), cnt)\n",
    "    \n",
    "    pygame.display.update()\n",
    "    \n",
    "    if EVOLVE_COLOR:\n",
    "        update_color_dict(max_delta=40)\n",
    "        \n",
    "    if cnt > 2000:\n",
    "        break\n",
    "    cnt += 1\n",
    "    \n",
    "pygame.quit()"
   ]
  },
  {
   "cell_type": "code",
   "execution_count": 154,
   "metadata": {},
   "outputs": [],
   "source": [
    "save_screenshots_to_video(filename='gif.avi', framerate=30, startframe=90, stopframe=300) # Run if screenshots already saved to disk"
   ]
  },
  {
   "cell_type": "code",
   "execution_count": null,
   "metadata": {},
   "outputs": [],
   "source": []
  }
 ],
 "metadata": {
  "kernelspec": {
   "display_name": "Python 3",
   "language": "python",
   "name": "python3"
  },
  "language_info": {
   "codemirror_mode": {
    "name": "ipython",
    "version": 3
   },
   "file_extension": ".py",
   "mimetype": "text/x-python",
   "name": "python",
   "nbconvert_exporter": "python",
   "pygments_lexer": "ipython3",
   "version": "3.6.5"
  }
 },
 "nbformat": 4,
 "nbformat_minor": 2
}
